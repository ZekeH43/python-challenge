{
 "cells": [
  {
   "cell_type": "code",
   "execution_count": 13,
   "id": "74327cfd-6635-4d44-91a7-0a8be735871e",
   "metadata": {
    "tags": []
   },
   "outputs": [],
   "source": [
    "from pathlib import Path\n",
    "import csv"
   ]
  },
  {
   "cell_type": "code",
   "execution_count": 8,
   "id": "aaa953ce-eb82-4d42-805d-ad6be0e82fb4",
   "metadata": {
    "tags": []
   },
   "outputs": [],
   "source": [
    "csvpath = Path('../PyBank/budget_data.csv')"
   ]
  },
  {
   "cell_type": "code",
   "execution_count": null,
   "id": "a5f60f4e-530c-4edd-9b12-f3335d4d3fb5",
   "metadata": {},
   "outputs": [],
   "source": []
  }
 ],
 "metadata": {
  "kernelspec": {
   "display_name": "Python 3 (ipykernel)",
   "language": "python",
   "name": "python3"
  },
  "language_info": {
   "codemirror_mode": {
    "name": "ipython",
    "version": 3
   },
   "file_extension": ".py",
   "mimetype": "text/x-python",
   "name": "python",
   "nbconvert_exporter": "python",
   "pygments_lexer": "ipython3",
   "version": "3.10.13"
  }
 },
 "nbformat": 4,
 "nbformat_minor": 5
}
