{
 "cells": [
  {
   "cell_type": "code",
   "execution_count": 1,
   "id": "ca61cbd6-32cd-4eb6-855a-9ca775cf23cd",
   "metadata": {},
   "outputs": [],
   "source": [
    "import csv\n",
    "from pathlib import Path"
   ]
  },
  {
   "cell_type": "code",
   "execution_count": 2,
   "id": "6e72d067-58e4-4535-b013-48fb40ed18d6",
   "metadata": {
    "tags": []
   },
   "outputs": [],
   "source": [
    "csvpath = Path('PyBank/budget_data.csv')"
   ]
  },
  {
   "cell_type": "code",
   "execution_count": 3,
   "id": "dd272afa-7c95-476d-b78a-021c5f2895f0",
   "metadata": {
    "tags": []
   },
   "outputs": [],
   "source": [
    "number_of_months = 0\n",
    "net_total_of_profit_losses = 0\n",
    "change_list = []\n",
    "tmax = \"\"\n",
    "net_max = 0\n",
    "tmin = \"\"\n",
    "net_min = 9999999999999999999"
   ]
  },
  {
   "cell_type": "code",
   "execution_count": 4,
   "id": "941ed579-b821-4a72-afa7-d8478046b683",
   "metadata": {
    "tags": []
   },
   "outputs": [],
   "source": [
    "with open(csvpath) as Bank:\n",
    "    reader = csv.reader(Bank)\n",
    "    header = next(reader)\n",
    "    #print(header)\n",
    "    first_row = next(reader)\n",
    "    #print(first_row) \n",
    "    number_of_months = number_of_months + 1\n",
    "    net_total_of_profit_losses = net_total_of_profit_losses + int(first_row[1])\n",
    "    previous_value = int(first_row[1])\n",
    "    for row in reader:\n",
    "        number_of_months = number_of_months + 1\n",
    "        net_total_of_profit_losses = net_total_of_profit_losses + int(row[1])\n",
    "        change = int(row[1]) - previous_value\n",
    "        previous_value = int(row[1])\n",
    "        #print(change)\n",
    "        change_list = change_list + [change]\n",
    "        if change > net_max:\n",
    "            net_max = change \n",
    "            tmax = row[0]\n",
    "        if change < net_min:\n",
    "            net_min = change\n",
    "            tmin = row[0]\n",
    "        \n",
    "        \n",
    "        \n",
    "        \n",
    "    \n",
    "    "
   ]
  },
  {
   "cell_type": "code",
   "execution_count": 5,
   "id": "045b1f4f-92fc-4351-b0c3-1fac0cd9b07d",
   "metadata": {},
   "outputs": [],
   "source": [
    "net_average = sum(change_list) / len(change_list)"
   ]
  },
  {
   "cell_type": "code",
   "execution_count": 6,
   "id": "4c77039f-9792-415a-85cc-62c0fb821c3a",
   "metadata": {
    "tags": []
   },
   "outputs": [
    {
     "name": "stdout",
     "output_type": "stream",
     "text": [
      "Financial Analysis\n",
      "---------------------\n",
      "Total Months: 86\n",
      "Total:$ 38382578\n",
      "Average Change: -2315.1176470588234\n",
      "Greatest Increase in Profits: $ 1926159\n",
      "Greatest Decrease in Profits: $ -2196167\n"
     ]
    }
   ],
   "source": [
    "print(f'Financial Analysis')\n",
    "\n",
    "print(f'---------------------')\n",
    "print(f'Total Months:',number_of_months)\n",
    "\n",
    "print(f'Total:$',net_total_of_profit_losses)\n",
    "\n",
    "print(f'Average Change:',net_average)\n",
    "\n",
    "print(f'Greatest Increase in Profits: $',net_max)\n",
    "\n",
    "print(f'Greatest Decrease in Profits: $',net_min)"
   ]
  },
  {
   "cell_type": "code",
   "execution_count": 7,
   "id": "ad1950ac-ee20-4e7d-8854-014979743864",
   "metadata": {
    "tags": []
   },
   "outputs": [
    {
     "data": {
      "text/plain": [
       "'C:\\\\Users\\\\tyler\\\\OneDrive\\\\Homework\\\\python-challenge'"
      ]
     },
     "execution_count": 7,
     "metadata": {},
     "output_type": "execute_result"
    }
   ],
   "source": [
    "pwd"
   ]
  },
  {
   "cell_type": "code",
   "execution_count": null,
   "id": "3b1fae14-f0b3-4b00-a082-a77bdefe97df",
   "metadata": {},
   "outputs": [],
   "source": []
  }
 ],
 "metadata": {
  "kernelspec": {
   "display_name": "Python 3 (ipykernel)",
   "language": "python",
   "name": "python3"
  },
  "language_info": {
   "codemirror_mode": {
    "name": "ipython",
    "version": 3
   },
   "file_extension": ".py",
   "mimetype": "text/x-python",
   "name": "python",
   "nbconvert_exporter": "python",
   "pygments_lexer": "ipython3",
   "version": "3.10.13"
  }
 },
 "nbformat": 4,
 "nbformat_minor": 5
}
